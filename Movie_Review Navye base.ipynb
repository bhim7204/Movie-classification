{
 "cells": [
  {
   "cell_type": "code",
   "execution_count": 2,
   "metadata": {},
   "outputs": [],
   "source": [
    "import requests\n",
    "import pandas as pd\n",
    "import numpy as np\n",
    "import matplotlib.pyplot as plt\n",
    "import re\n",
    "from nltk.corpus import stopwords\n",
    "from nltk.tokenize import word_tokenize\n",
    "from nltk.stem import WordNetLemmatizer\n",
    "from nltk.stem import PorterStemmer\n",
    "from tensorflow.keras.preprocessing.text import Tokenizer\n",
    "from tensorflow.keras.models import Sequential,Model\n",
    "from tensorflow.keras.layers import Dense, LSTM, Embedding,Dropout,SpatialDropout1D,Conv1D,MaxPooling1D,GRU,BatchNormalization\n",
    "from tensorflow.keras.layers import Input,Bidirectional,GlobalAveragePooling1D,GlobalMaxPooling1D,concatenate,LeakyReLU\n",
    "from tensorflow.keras import regularizers\n",
    "from tensorflow.keras import backend as K\n",
    "import keras\n",
    "import tensorflow as tf"
   ]
  },
  {
   "cell_type": "code",
   "execution_count": 3,
   "metadata": {},
   "outputs": [
    {
     "data": {
      "text/plain": [
       "[PhysicalDevice(name='/physical_device:CPU:0', device_type='CPU'),\n",
       " PhysicalDevice(name='/physical_device:GPU:0', device_type='GPU')]"
      ]
     },
     "execution_count": 3,
     "metadata": {},
     "output_type": "execute_result"
    }
   ],
   "source": [
    "tf.config.list_physical_devices()"
   ]
  },
  {
   "cell_type": "code",
   "execution_count": 4,
   "metadata": {},
   "outputs": [],
   "source": [
    "gpu_devices = tf.config.experimental.list_physical_devices('GPU')\n",
    "for device in gpu_devices: tf.config.experimental.set_memory_growth(device, True)"
   ]
  },
  {
   "cell_type": "code",
   "execution_count": 5,
   "metadata": {},
   "outputs": [
    {
     "data": {
      "text/plain": [
       "[{'id': 28, 'name': 'Action'},\n",
       " {'id': 12, 'name': 'Adventure'},\n",
       " {'id': 16, 'name': 'Animation'},\n",
       " {'id': 35, 'name': 'Comedy'},\n",
       " {'id': 80, 'name': 'Crime'},\n",
       " {'id': 99, 'name': 'Documentary'},\n",
       " {'id': 18, 'name': 'Drama'},\n",
       " {'id': 10751, 'name': 'Family'},\n",
       " {'id': 14, 'name': 'Fantasy'},\n",
       " {'id': 36, 'name': 'History'},\n",
       " {'id': 27, 'name': 'Horror'},\n",
       " {'id': 10402, 'name': 'Music'},\n",
       " {'id': 9648, 'name': 'Mystery'},\n",
       " {'id': 10749, 'name': 'Romance'},\n",
       " {'id': 878, 'name': 'Science Fiction'},\n",
       " {'id': 10770, 'name': 'TV Movie'},\n",
       " {'id': 53, 'name': 'Thriller'},\n",
       " {'id': 10752, 'name': 'War'},\n",
       " {'id': 37, 'name': 'Western'}]"
      ]
     },
     "execution_count": 5,
     "metadata": {},
     "output_type": "execute_result"
    }
   ],
   "source": [
    "genre_response = requests.get(\"https://api.themoviedb.org/3/genre/movie/list?api_key=50298e4210ad98f9daba9b5d76b15889&language=en-US\")\n",
    "all_genres = genre_response.json()[\"genres\"]\n",
    "# for i,v in enumerate(all_genres):\n",
    "#     v[\"id\"] = i\n",
    "\n",
    "all_genres"
   ]
  },
  {
   "cell_type": "code",
   "execution_count": 6,
   "metadata": {},
   "outputs": [],
   "source": [
    "def build_url(params, pages=1):\n",
    "    url = \"https://api.themoviedb.org/3/discover/movie?api_key=50298e4210ad98f9daba9b5d76b15889&language=en-US&sort_by=popularity.desc&include_adult=false&include_video=false&with_watch_monetization_types=flatrate\"\n",
    "    url += f\"&with_genres={params}&page={pages}\"\n",
    "    return url"
   ]
  },
  {
   "cell_type": "code",
   "execution_count": 7,
   "metadata": {},
   "outputs": [],
   "source": [
    "def get_movie_data(genre, pages):\n",
    "    response = requests.get(build_url(genre, pages))\n",
    "    return response.json()\n"
   ]
  },
  {
   "cell_type": "code",
   "execution_count": 8,
   "metadata": {},
   "outputs": [],
   "source": [
    "# data = get_movie_data(28,pages)"
   ]
  },
  {
   "cell_type": "code",
   "execution_count": 9,
   "metadata": {},
   "outputs": [],
   "source": [
    "movies_data = pd.DataFrame(columns=[\"movie_name\", \"plot\", \"genre\"])"
   ]
  },
  {
   "cell_type": "code",
   "execution_count": 10,
   "metadata": {},
   "outputs": [],
   "source": [
    "def load_movies_data(genre, pages):\n",
    "    data = pd.DataFrame(columns=[\"movie_name\", \"plot\", \"genre\"])\n",
    "    for i in get_movie_data(genre, pages)[\"results\"]:\n",
    "        # print({\"movie_name\" : i[\"original_title\"], \"plot\": i[\"overview\"], \"genre\": i[\"genre_ids\"]})\n",
    "        data =  pd.concat([data, pd.DataFrame.from_records([{\"movie_name\" : i[\"original_title\"], \"plot\": i[\"overview\"], \"genre\": i[\"genre_ids\"], \"primary_genre\": genre}])])\n",
    "    return data"
   ]
  },
  {
   "cell_type": "code",
   "execution_count": 11,
   "metadata": {},
   "outputs": [],
   "source": [
    "DATA_LIMIT = 2000"
   ]
  },
  {
   "cell_type": "code",
   "execution_count": 12,
   "metadata": {},
   "outputs": [],
   "source": [
    "# num_of_genres = 0\n",
    "# for i in all_genres:\n",
    "#     num_of_genres+=1\n",
    "#     pages =1\n",
    "#     while(movies_data.shape[0] < (DATA_LIMIT * num_of_genres)):\n",
    "#         movies_data = pd.concat([movies_data, load_movies_data(i['id'], pages)])\n",
    "#         pages += 1\n",
    "\n",
    "movies_data = pd.read_csv(\"scrubedData.csv\")"
   ]
  },
  {
   "cell_type": "code",
   "execution_count": 13,
   "metadata": {},
   "outputs": [],
   "source": [
    "# movies_data.to_csv(\"scrubedData.csv\")"
   ]
  },
  {
   "cell_type": "code",
   "execution_count": 14,
   "metadata": {},
   "outputs": [
    {
     "data": {
      "text/plain": [
       "(38000, 5)"
      ]
     },
     "execution_count": 14,
     "metadata": {},
     "output_type": "execute_result"
    }
   ],
   "source": [
    "movies_data.shape"
   ]
  },
  {
   "cell_type": "code",
   "execution_count": 15,
   "metadata": {},
   "outputs": [
    {
     "data": {
      "text/html": [
       "<div>\n",
       "<style scoped>\n",
       "    .dataframe tbody tr th:only-of-type {\n",
       "        vertical-align: middle;\n",
       "    }\n",
       "\n",
       "    .dataframe tbody tr th {\n",
       "        vertical-align: top;\n",
       "    }\n",
       "\n",
       "    .dataframe thead th {\n",
       "        text-align: right;\n",
       "    }\n",
       "</style>\n",
       "<table border=\"1\" class=\"dataframe\">\n",
       "  <thead>\n",
       "    <tr style=\"text-align: right;\">\n",
       "      <th></th>\n",
       "      <th>Unnamed: 0</th>\n",
       "      <th>movie_name</th>\n",
       "      <th>plot</th>\n",
       "      <th>genre</th>\n",
       "      <th>primary_genre</th>\n",
       "    </tr>\n",
       "  </thead>\n",
       "  <tbody>\n",
       "    <tr>\n",
       "      <th>0</th>\n",
       "      <td>0</td>\n",
       "      <td>Spider-Man: No Way Home</td>\n",
       "      <td>peter parker unmasked longer able separate nor...</td>\n",
       "      <td>[28, 12, 878]</td>\n",
       "      <td>28.0</td>\n",
       "    </tr>\n",
       "    <tr>\n",
       "      <th>1</th>\n",
       "      <td>0</td>\n",
       "      <td>Sonic the Hedgehog 2</td>\n",
       "      <td>settling green hills sonic eager prove takes t...</td>\n",
       "      <td>[28, 878, 35, 10751]</td>\n",
       "      <td>28.0</td>\n",
       "    </tr>\n",
       "    <tr>\n",
       "      <th>2</th>\n",
       "      <td>0</td>\n",
       "      <td>Moonfall</td>\n",
       "      <td>mysterious force knocks moon orbit around eart...</td>\n",
       "      <td>[28, 12, 878]</td>\n",
       "      <td>28.0</td>\n",
       "    </tr>\n",
       "    <tr>\n",
       "      <th>3</th>\n",
       "      <td>0</td>\n",
       "      <td>War of the Worlds: Annihilation</td>\n",
       "      <td>mother son find faced brutal alien invasion su...</td>\n",
       "      <td>[878, 28]</td>\n",
       "      <td>28.0</td>\n",
       "    </tr>\n",
       "    <tr>\n",
       "      <th>4</th>\n",
       "      <td>0</td>\n",
       "      <td>The Adam Project</td>\n",
       "      <td>accidentally crash landing time traveling figh...</td>\n",
       "      <td>[28, 12, 35, 878]</td>\n",
       "      <td>28.0</td>\n",
       "    </tr>\n",
       "  </tbody>\n",
       "</table>\n",
       "</div>"
      ],
      "text/plain": [
       "   Unnamed: 0                       movie_name  \\\n",
       "0           0          Spider-Man: No Way Home   \n",
       "1           0             Sonic the Hedgehog 2   \n",
       "2           0                         Moonfall   \n",
       "3           0  War of the Worlds: Annihilation   \n",
       "4           0                 The Adam Project   \n",
       "\n",
       "                                                plot                 genre  \\\n",
       "0  peter parker unmasked longer able separate nor...         [28, 12, 878]   \n",
       "1  settling green hills sonic eager prove takes t...  [28, 878, 35, 10751]   \n",
       "2  mysterious force knocks moon orbit around eart...         [28, 12, 878]   \n",
       "3  mother son find faced brutal alien invasion su...             [878, 28]   \n",
       "4  accidentally crash landing time traveling figh...     [28, 12, 35, 878]   \n",
       "\n",
       "   primary_genre  \n",
       "0           28.0  \n",
       "1           28.0  \n",
       "2           28.0  \n",
       "3           28.0  \n",
       "4           28.0  "
      ]
     },
     "execution_count": 15,
     "metadata": {},
     "output_type": "execute_result"
    }
   ],
   "source": [
    "movies_data.head()"
   ]
  },
  {
   "cell_type": "code",
   "execution_count": 16,
   "metadata": {},
   "outputs": [],
   "source": [
    "stop_words = stopwords.words('english')\n",
    "stop_words.extend([\"br\"]) # Added the line break tag br to the stop words as it is not necessary\n",
    "stop_words = set(stop_words)\n",
    "\n",
    "lemmatizer = WordNetLemmatizer()\n",
    "stemmer = PorterStemmer()\n",
    "\n",
    "def lemmatize(word):\n",
    "    return lemmatizer.lemmatize(word)\n",
    "\n",
    "def clean_text(text):\n",
    "    text = str(text).lower().split()\n",
    "    \n",
    "    stops = stop_words\n",
    "    text = [w for w in text if not w in stops and len(w) >= 3]\n",
    "    text = \" \".join(text)\n",
    "    \n",
    "    text = re. sub(r'https?://[A-Za-z0-9./]+', 'url', text)\n",
    "    text = re. sub(r\"[^A-Za-z0-g^,!.V'+-=]\",\" \", text)\n",
    "    text = re.sub(r\"what's\", \"what is\", text)\n",
    "    text = re.sub(r\"\\'s\", \" \", text)\n",
    "    text = re. sub(r\"\\'ve\", \"have\", text)\n",
    "    text = re.sub(r\"n't\", \"not\", text)\n",
    "    text = re.sub(r\"i'm\", \"i am\", text)\n",
    "    text = re. sub(r\"\\'re\", \"are\", text)\n",
    "    text = re.sub(r\"\\'d\", \"would\", text)\n",
    "    text = re.sub(r\"\\'ll\", \"will\", text)\n",
    "    text = re.sub(r\",\", \" \",text)\n",
    "    text = re.sub(r\"\\.\", \" \",text)\n",
    "    text = re.sub(r\"!\", \" ! \", text)\n",
    "    text = re.sub(r\"\\/\", \" \", text)\n",
    "    text = re. sub(r\"\\^\", \" ^ \", text)\n",
    "    text = re.sub(r\"\\+\", \" + \" , text)\n",
    "    text = re.sub(r\"\\-\", \" - \" , text)\n",
    "    text = re.sub(r\"\\=\", \" = \" , text)\n",
    "    text = re. sub(r\"'\", \" \" , text)\n",
    "    text = re.sub(r\"(\\d+)(k)\", r\"\\g<1>000\", text)\n",
    "    text = re. sub(r\":\", \" : \", text)\n",
    "    text = re. sub(r\" e g \", \" eg \", text)\n",
    "    text = re. sub(r\" b g \", \" bg \", text)\n",
    "    text = re. sub(r\"j k\", \" jk \", text)\n",
    "    text = re. sub(r\" u s \", \" american \", text)\n",
    "    text = re. sub(r\"\\0s\", \"0\", text)\n",
    "    text = re. sub(r\" 9 11 \", \"911\", text)\n",
    "    text = re.sub(r\"e - mail\", \"email\", text)\n",
    "    text = re.sub(r\"\\s{2,}\", \" \", text)\n",
    "    text = re.sub(r'@[A-Za-z0-9]+', '', text)\n",
    "    text = re. sub(r'(\\w)\\1{2,}', r'\\1\\1', text)\n",
    "    text = re.sub(r'\\w(\\w)\\1{2}','', text)\n",
    "    pattern = re.compile(r\"(.)\\1{2,}\")\n",
    "    text = pattern.sub(r\"\\1\\1\", text)\n",
    "    stemmer.stem(text)\n",
    "    return lemmatize(text)\n",
    "\n",
    "def del_NonAlphawords(sentence):\n",
    "    return \" \".join([word for word in sentence.split() if word.isalpha()])"
   ]
  },
  {
   "cell_type": "code",
   "execution_count": 17,
   "metadata": {},
   "outputs": [],
   "source": [
    "clean_all = lambda x : del_NonAlphawords(clean_text(x))"
   ]
  },
  {
   "cell_type": "code",
   "execution_count": 18,
   "metadata": {},
   "outputs": [],
   "source": [
    "movies_data[\"plot\"] = movies_data[\"plot\"].apply(clean_all)"
   ]
  },
  {
   "cell_type": "code",
   "execution_count": 19,
   "metadata": {},
   "outputs": [
    {
     "data": {
      "text/plain": [
       "<AxesSubplot:>"
      ]
     },
     "execution_count": 19,
     "metadata": {},
     "output_type": "execute_result"
    },
    {
     "data": {
      "image/png": "[encoded data removed]",
      "text/plain": [
       "<Figure size 432x288 with 1 Axes>"
      ]
     },
     "metadata": {
      "needs_background": "light"
     },
     "output_type": "display_data"
    }
   ],
   "source": [
    "movies_data.primary_genre.value_counts().sort_values().plot(kind = 'bar')"
   ]
  },
  {
   "cell_type": "code",
   "execution_count": 20,
   "metadata": {},
   "outputs": [],
   "source": [
    "# movies_data = movies_data.explode(\"genre\")"
   ]
  },
  {
   "cell_type": "code",
   "execution_count": 21,
   "metadata": {},
   "outputs": [],
   "source": [
    "# movies_data.genre.value_counts().sort_values().plot(kind = 'bar')"
   ]
  },
  {
   "cell_type": "code",
   "execution_count": 22,
   "metadata": {},
   "outputs": [
    {
     "data": {
      "image/png": "[encoded data removed]",
      "text/plain": [
       "<Figure size 432x288 with 1 Axes>"
      ]
     },
     "metadata": {
      "needs_background": "light"
     },
     "output_type": "display_data"
    }
   ],
   "source": [
    "from wordcloud import WordCloud\n",
    "\n",
    "import matplotlib.pyplot as plt\n",
    "\n",
    "\n",
    "\n",
    "wordcloud = WordCloud().generate(str(movies_data[\"plot\"]))\n",
    "\n",
    "plt.figure()\n",
    "plt.imshow(wordcloud)\n",
    "\n",
    "plt.axis(\"off\")\n",
    "\n",
    "plt.show()"
   ]
  },
  {
   "cell_type": "code",
   "execution_count": 23,
   "metadata": {},
   "outputs": [],
   "source": [
    "tokenizer = Tokenizer(num_words=100000)\n",
    "tokenizer.fit_on_texts(movies_data[\"plot\"])\n",
    "word_index = tokenizer.word_index"
   ]
  },
  {
   "cell_type": "code",
   "execution_count": 24,
   "metadata": {},
   "outputs": [
    {
     "name": "stdout",
     "output_type": "stream",
     "text": [
      "Found 1917494 word vectors.\n"
     ]
    }
   ],
   "source": [
    "path_to_glove_file = os.path.join(\"glove.42B.300d.txt\")\n",
    "\n",
    "embeddings_index = {}\n",
    "with open(path_to_glove_file) as f:\n",
    "    for line in f:\n",
    "        word, coefs = line.split(maxsplit=1)\n",
    "        coefs = np.fromstring(coefs, \"f\", sep=\" \")\n",
    "        embeddings_index[word] = coefs\n",
    "\n",
    "print(\"Found %s word vectors.\" % len(embeddings_index))"
   ]
  },
  {
   "cell_type": "code",
   "execution_count": 25,
   "metadata": {},
   "outputs": [
    {
     "name": "stdout",
     "output_type": "stream",
     "text": [
      "Converted 42121 words (2211 misses)\n"
     ]
    }
   ],
   "source": [
    "num_tokens = len(word_index) + 2\n",
    "embedding_dim = 300\n",
    "hits = 0\n",
    "misses = 0\n",
    "\n",
    "# Prepare embedding matrix\n",
    "embedding_matrix = np.zeros((num_tokens, embedding_dim))\n",
    "for word, i in word_index.items():\n",
    "    embedding_vector = embeddings_index.get(word)\n",
    "    if embedding_vector is not None:\n",
    "        # Words not found in embedding index will be all-zeros.\n",
    "        # This includes the representation for \"padding\" and \"OOV\"\n",
    "        embedding_matrix[i] = embedding_vector\n",
    "        hits += 1\n",
    "    else:\n",
    "        misses += 1\n",
    "print(\"Converted %d words (%d misses)\" % (hits, misses))"
   ]
  },
  {
   "cell_type": "code",
   "execution_count": null,
   "metadata": {},
   "outputs": [],
   "source": []
  },
  {
   "cell_type": "code",
   "execution_count": 26,
   "metadata": {},
   "outputs": [
    {
     "data": {
      "text/plain": [
       "array([   12.,    14.,    16.,    18.,    27.,    28.,    35.,    36.,\n",
       "          37.,    53.,    80.,    99.,   878.,  9648., 10402., 10749.,\n",
       "       10751., 10752., 10770.])"
      ]
     },
     "execution_count": 26,
     "metadata": {},
     "output_type": "execute_result"
    }
   ],
   "source": [
    "classes = np.unique(movies_data[\"primary_genre\"])\n",
    "classes"
   ]
  },
  {
   "cell_type": "code",
   "execution_count": 27,
   "metadata": {},
   "outputs": [],
   "source": [
    "from sklearn.model_selection import train_test_split\n",
    "from keras.utils.np_utils import to_categorical\n",
    "from sklearn.preprocessing import LabelBinarizer, LabelEncoder\n",
    "# from keras.utils import np_utils\n",
    "from keras.preprocessing.sequence import pad_sequences\n",
    "import os\n",
    "from tensorflow.keras.callbacks import TensorBoard\n",
    "\n",
    "\n",
    "\n",
    "encoder = LabelEncoder()\n",
    "encoder.fit(movies_data[\"primary_genre\"])\n",
    "y_data = encoder.transform(movies_data[\"primary_genre\"])\n",
    "\n",
    "categorical_labels = to_categorical(y_data,num_classes=len(classes))\n",
    "X_train, X_test, Y_train, Y_test = train_test_split(movies_data[\"plot\"], categorical_labels, test_size=0.2)"
   ]
  },
  {
   "cell_type": "code",
   "execution_count": 28,
   "metadata": {},
   "outputs": [
    {
     "data": {
      "text/plain": [
       "array([[0., 0., 0., ..., 0., 0., 0.],\n",
       "       [0., 0., 0., ..., 0., 0., 0.],\n",
       "       [0., 0., 0., ..., 0., 0., 1.],\n",
       "       ...,\n",
       "       [0., 0., 0., ..., 1., 0., 0.],\n",
       "       [0., 0., 0., ..., 0., 0., 0.],\n",
       "       [0., 0., 0., ..., 0., 0., 0.]], dtype=float32)"
      ]
     },
     "execution_count": 28,
     "metadata": {},
     "output_type": "execute_result"
    }
   ],
   "source": [
    "Y_train"
   ]
  },
  {
   "cell_type": "code",
   "execution_count": 29,
   "metadata": {},
   "outputs": [],
   "source": [
    "MAX_SEQUENCE_LENGTH = 10000"
   ]
  },
  {
   "cell_type": "code",
   "execution_count": 30,
   "metadata": {},
   "outputs": [],
   "source": [
    "pad_X_train = pad_sequences(\n",
    "   tokenizer.texts_to_sequences(X_train), maxlen = MAX_SEQUENCE_LENGTH\n",
    " )\n",
    "pad_X_test =  pad_sequences(\n",
    "     tokenizer.texts_to_sequences(X_test), maxlen = MAX_SEQUENCE_LENGTH\n",
    "   )"
   ]
  },
  {
   "cell_type": "code",
   "execution_count": 31,
   "metadata": {},
   "outputs": [
    {
     "data": {
      "text/plain": [
       "array([[0., 0., 0., ..., 0., 0., 0.],\n",
       "       [0., 0., 0., ..., 0., 0., 0.],\n",
       "       [0., 0., 0., ..., 0., 0., 1.],\n",
       "       ...,\n",
       "       [0., 0., 0., ..., 1., 0., 0.],\n",
       "       [0., 0., 0., ..., 0., 0., 0.],\n",
       "       [0., 0., 0., ..., 0., 0., 0.]], dtype=float32)"
      ]
     },
     "execution_count": 31,
     "metadata": {},
     "output_type": "execute_result"
    }
   ],
   "source": [
    "Y_train"
   ]
  },
  {
   "cell_type": "code",
   "execution_count": 32,
   "metadata": {},
   "outputs": [],
   "source": [
    "my_tags = np.unique(movies_data[\"primary_genre\"])"
   ]
  },
  {
   "cell_type": "code",
   "execution_count": 33,
   "metadata": {},
   "outputs": [],
   "source": [
    "from tensorflow import keras\n",
    "from keras.models import Sequential\n",
    "from keras.layers import Dense, Activation, Dropout\n",
    "from keras.preprocessing import text, sequence\n",
    "from keras import utils"
   ]
  },
  {
   "cell_type": "code",
   "execution_count": 34,
   "metadata": {},
   "outputs": [],
   "source": [
    "batch_size=64\n",
    "epochs = 100"
   ]
  },
  {
   "cell_type": "code",
   "execution_count": 35,
   "metadata": {},
   "outputs": [
    {
     "data": {
      "text/plain": [
       "(10000,)"
      ]
     },
     "execution_count": 35,
     "metadata": {},
     "output_type": "execute_result"
    }
   ],
   "source": [
    "pad_X_train[0].shape"
   ]
  },
  {
   "cell_type": "code",
   "execution_count": 36,
   "metadata": {},
   "outputs": [
    {
     "data": {
      "text/plain": [
       "array([0., 0., 0., 0., 0., 0., 0., 0., 0., 0., 0., 1., 0., 0., 0., 0., 0.,\n",
       "       0., 0.], dtype=float32)"
      ]
     },
     "execution_count": 36,
     "metadata": {},
     "output_type": "execute_result"
    }
   ],
   "source": [
    "Y_train[0]"
   ]
  },
  {
   "cell_type": "code",
   "execution_count": 37,
   "metadata": {},
   "outputs": [
    {
     "name": "stdout",
     "output_type": "stream",
     "text": [
      "Metal device set to: AMD Radeon Pro 5300M\n",
      "\n",
      "systemMemory: 16.00 GB\n",
      "maxCacheSize: 1.99 GB\n",
      "\n",
      "Epoch 1/100\n"
     ]
    },
    {
     "name": "stderr",
     "output_type": "stream",
     "text": [
      "2022-04-16 22:55:24.995356: I tensorflow/core/platform/cpu_feature_guard.cc:151] This TensorFlow binary is optimized with oneAPI Deep Neural Network Library (oneDNN) to use the following CPU instructions in performance-critical operations:  SSE4.2 AVX AVX2 FMA\n",
      "To enable them in other operations, rebuild TensorFlow with the appropriate compiler flags.\n",
      "2022-04-16 22:55:24.997975: I tensorflow/core/common_runtime/pluggable_device/pluggable_device_factory.cc:305] Could not identify NUMA node of platform GPU ID 0, defaulting to 0. Your kernel may not have been built with NUMA support.\n",
      "2022-04-16 22:55:24.998621: I tensorflow/core/common_runtime/pluggable_device/pluggable_device_factory.cc:271] Created TensorFlow device (/job:localhost/replica:0/task:0/device:GPU:0 with 0 MB memory) -> physical PluggableDevice (device: 0, name: METAL, pci bus id: <undefined>)\n"
     ]
    },
    {
     "name": "stdout",
     "output_type": "stream",
     "text": [
      "428/428 [==============================] - 9s 21ms/step - loss: 111.2195 - accuracy: 0.0561 - val_loss: 4.2588 - val_accuracy: 0.0622\n",
      "Epoch 2/100\n",
      "428/428 [==============================] - 8s 20ms/step - loss: 3.8181 - accuracy: 0.0550 - val_loss: 3.4655 - val_accuracy: 0.0500\n",
      "Epoch 3/100\n",
      "428/428 [==============================] - 9s 20ms/step - loss: 3.3661 - accuracy: 0.0556 - val_loss: 3.3553 - val_accuracy: 0.0487\n",
      "Epoch 4/100\n",
      "428/428 [==============================] - 9s 20ms/step - loss: 3.1301 - accuracy: 0.0554 - val_loss: 3.4287 - val_accuracy: 0.0470\n",
      "Epoch 5/100\n",
      "428/428 [==============================] - 9s 20ms/step - loss: 3.0774 - accuracy: 0.0544 - val_loss: 3.1738 - val_accuracy: 0.0477\n",
      "Epoch 6/100\n",
      "428/428 [==============================] - 9s 20ms/step - loss: 3.0088 - accuracy: 0.0551 - val_loss: 3.1229 - val_accuracy: 0.0474\n",
      "Epoch 7/100\n",
      "428/428 [==============================] - 9s 20ms/step - loss: 2.9773 - accuracy: 0.0546 - val_loss: 3.1573 - val_accuracy: 0.0477\n",
      "Epoch 8/100\n",
      "428/428 [==============================] - 9s 20ms/step - loss: 2.9537 - accuracy: 0.0543 - val_loss: 3.1193 - val_accuracy: 0.0480\n",
      "Epoch 9/100\n",
      "428/428 [==============================] - 9s 20ms/step - loss: 2.9585 - accuracy: 0.0541 - val_loss: 3.0908 - val_accuracy: 0.0477\n",
      "Epoch 10/100\n",
      "428/428 [==============================] - 9s 20ms/step - loss: 2.9449 - accuracy: 0.0554 - val_loss: 3.0832 - val_accuracy: 0.0477\n",
      "Epoch 11/100\n",
      "428/428 [==============================] - 9s 20ms/step - loss: 2.9461 - accuracy: 0.0545 - val_loss: 3.0759 - val_accuracy: 0.0474\n",
      "Epoch 12/100\n",
      "428/428 [==============================] - 9s 20ms/step - loss: 2.9488 - accuracy: 0.0551 - val_loss: 3.0689 - val_accuracy: 0.0474\n",
      "Epoch 13/100\n",
      "428/428 [==============================] - 9s 20ms/step - loss: 2.9486 - accuracy: 0.0542 - val_loss: 3.0800 - val_accuracy: 0.0470\n",
      "Epoch 14/100\n",
      "428/428 [==============================] - 9s 20ms/step - loss: 2.9628 - accuracy: 0.0560 - val_loss: 3.0625 - val_accuracy: 0.0470\n",
      "Epoch 15/100\n",
      "428/428 [==============================] - 9s 20ms/step - loss: 2.9426 - accuracy: 0.0536 - val_loss: 3.0627 - val_accuracy: 0.0470\n",
      "Epoch 16/100\n",
      "428/428 [==============================] - 9s 20ms/step - loss: 2.9428 - accuracy: 0.0542 - val_loss: 3.0627 - val_accuracy: 0.0497\n",
      "Epoch 17/100\n",
      "428/428 [==============================] - 9s 20ms/step - loss: 2.9412 - accuracy: 0.0536 - val_loss: 3.0577 - val_accuracy: 0.0470\n",
      "Epoch 18/100\n",
      "428/428 [==============================] - 9s 20ms/step - loss: 2.9405 - accuracy: 0.0539 - val_loss: 3.0576 - val_accuracy: 0.0470\n",
      "Epoch 19/100\n",
      "428/428 [==============================] - 9s 20ms/step - loss: 2.9398 - accuracy: 0.0553 - val_loss: 3.0576 - val_accuracy: 0.0470\n",
      "Epoch 20/100\n",
      "428/428 [==============================] - 9s 20ms/step - loss: 2.9458 - accuracy: 0.0536 - val_loss: 3.0578 - val_accuracy: 0.0470\n",
      "Epoch 21/100\n",
      "428/428 [==============================] - 9s 20ms/step - loss: 2.9408 - accuracy: 0.0545 - val_loss: 3.0578 - val_accuracy: 0.0470\n",
      "Epoch 22/100\n",
      "428/428 [==============================] - 8s 20ms/step - loss: 2.9408 - accuracy: 0.0535 - val_loss: 3.0577 - val_accuracy: 0.0470\n",
      "Epoch 23/100\n",
      "428/428 [==============================] - 8s 20ms/step - loss: 2.9409 - accuracy: 0.0557 - val_loss: 3.0576 - val_accuracy: 0.0470\n",
      "Epoch 24/100\n",
      "428/428 [==============================] - 9s 21ms/step - loss: 2.9409 - accuracy: 0.0551 - val_loss: 3.0577 - val_accuracy: 0.0470\n",
      "Epoch 25/100\n",
      "428/428 [==============================] - 10s 23ms/step - loss: 2.9402 - accuracy: 0.0548 - val_loss: 3.0578 - val_accuracy: 0.0470\n",
      "Epoch 26/100\n",
      "428/428 [==============================] - 9s 22ms/step - loss: 2.9449 - accuracy: 0.0549 - val_loss: 3.0580 - val_accuracy: 0.0470\n",
      "Epoch 27/100\n",
      "428/428 [==============================] - 9s 20ms/step - loss: 2.9511 - accuracy: 0.0549 - val_loss: 3.0579 - val_accuracy: 0.0470\n",
      "Epoch 28/100\n",
      "428/428 [==============================] - 9s 20ms/step - loss: 2.9408 - accuracy: 0.0547 - val_loss: 3.0580 - val_accuracy: 0.0470\n",
      "Epoch 29/100\n",
      "428/428 [==============================] - 9s 21ms/step - loss: 2.9409 - accuracy: 0.0558 - val_loss: 3.0581 - val_accuracy: 0.0470\n",
      "Epoch 30/100\n",
      "428/428 [==============================] - 9s 21ms/step - loss: 2.9624 - accuracy: 0.0546 - val_loss: 3.0563 - val_accuracy: 0.0470\n",
      "Epoch 31/100\n",
      "428/428 [==============================] - 9s 21ms/step - loss: 2.9411 - accuracy: 0.0557 - val_loss: 3.0564 - val_accuracy: 0.0470\n",
      "Epoch 32/100\n",
      "428/428 [==============================] - 9s 21ms/step - loss: 2.9407 - accuracy: 0.0548 - val_loss: 3.0564 - val_accuracy: 0.0470\n",
      "Epoch 33/100\n",
      "428/428 [==============================] - 9s 21ms/step - loss: 2.9406 - accuracy: 0.0547 - val_loss: 3.0565 - val_accuracy: 0.0470\n",
      "Epoch 34/100\n",
      "428/428 [==============================] - 9s 20ms/step - loss: 2.9414 - accuracy: 0.0556 - val_loss: 3.0566 - val_accuracy: 0.0470\n",
      "Epoch 35/100\n",
      "428/428 [==============================] - 9s 20ms/step - loss: 2.9415 - accuracy: 0.0539 - val_loss: 3.0567 - val_accuracy: 0.0470\n",
      "Epoch 36/100\n",
      "428/428 [==============================] - 9s 20ms/step - loss: 2.9415 - accuracy: 0.0538 - val_loss: 3.0567 - val_accuracy: 0.0480\n",
      "Epoch 37/100\n",
      "428/428 [==============================] - 9s 20ms/step - loss: 2.9412 - accuracy: 0.0549 - val_loss: 3.0567 - val_accuracy: 0.0470\n",
      "Epoch 38/100\n",
      "428/428 [==============================] - 9s 20ms/step - loss: 2.9414 - accuracy: 0.0546 - val_loss: 3.0567 - val_accuracy: 0.0470\n",
      "Epoch 39/100\n",
      "428/428 [==============================] - 9s 20ms/step - loss: 2.9455 - accuracy: 0.0545 - val_loss: 3.0569 - val_accuracy: 0.0470\n",
      "Epoch 40/100\n",
      "428/428 [==============================] - 9s 20ms/step - loss: 2.9407 - accuracy: 0.0534 - val_loss: 3.0568 - val_accuracy: 0.0470\n",
      "Epoch 41/100\n",
      "428/428 [==============================] - 9s 21ms/step - loss: 2.9464 - accuracy: 0.0550 - val_loss: 3.0571 - val_accuracy: 0.0470\n",
      "Epoch 42/100\n",
      "428/428 [==============================] - 9s 20ms/step - loss: 2.9412 - accuracy: 0.0532 - val_loss: 3.0572 - val_accuracy: 0.0470\n",
      "Epoch 43/100\n",
      "428/428 [==============================] - 9s 20ms/step - loss: 2.9419 - accuracy: 0.0535 - val_loss: 3.0571 - val_accuracy: 0.0470\n",
      "Epoch 44/100\n",
      "428/428 [==============================] - 9s 20ms/step - loss: 2.9511 - accuracy: 0.0557 - val_loss: 3.0515 - val_accuracy: 0.0470\n",
      "Epoch 45/100\n",
      "428/428 [==============================] - 9s 20ms/step - loss: 2.9412 - accuracy: 0.0547 - val_loss: 3.0517 - val_accuracy: 0.0470\n",
      "Epoch 46/100\n",
      "428/428 [==============================] - 9s 20ms/step - loss: 2.9419 - accuracy: 0.0538 - val_loss: 3.0515 - val_accuracy: 0.0470\n",
      "Epoch 47/100\n",
      "428/428 [==============================] - 9s 20ms/step - loss: 2.9409 - accuracy: 0.0548 - val_loss: 3.0517 - val_accuracy: 0.0470\n",
      "Epoch 48/100\n",
      "428/428 [==============================] - 9s 20ms/step - loss: 2.9414 - accuracy: 0.0556 - val_loss: 3.0519 - val_accuracy: 0.0470\n",
      "Epoch 49/100\n",
      "428/428 [==============================] - 9s 20ms/step - loss: 2.9419 - accuracy: 0.0524 - val_loss: 3.0518 - val_accuracy: 0.0470\n",
      "Epoch 50/100\n",
      "428/428 [==============================] - 9s 20ms/step - loss: 2.9424 - accuracy: 0.0543 - val_loss: 3.0519 - val_accuracy: 0.0470\n",
      "Epoch 51/100\n",
      "428/428 [==============================] - 9s 20ms/step - loss: 2.9413 - accuracy: 0.0550 - val_loss: 3.0518 - val_accuracy: 0.0470\n",
      "Epoch 52/100\n",
      "428/428 [==============================] - 9s 20ms/step - loss: 2.9421 - accuracy: 0.0554 - val_loss: 3.0519 - val_accuracy: 0.0470\n",
      "Epoch 53/100\n",
      "428/428 [==============================] - 8s 20ms/step - loss: 2.9512 - accuracy: 0.0542 - val_loss: 3.0864 - val_accuracy: 0.0480\n",
      "Epoch 54/100\n",
      "428/428 [==============================] - 9s 20ms/step - loss: 2.9475 - accuracy: 0.0533 - val_loss: 3.0517 - val_accuracy: 0.0470\n",
      "Epoch 55/100\n",
      "428/428 [==============================] - 9s 20ms/step - loss: 2.9409 - accuracy: 0.0526 - val_loss: 3.0517 - val_accuracy: 0.0470\n",
      "Epoch 56/100\n",
      "428/428 [==============================] - 9s 21ms/step - loss: 2.9439 - accuracy: 0.0555 - val_loss: 3.0517 - val_accuracy: 0.0470\n",
      "Epoch 57/100\n",
      "428/428 [==============================] - 9s 20ms/step - loss: 2.9436 - accuracy: 0.0551 - val_loss: 3.0519 - val_accuracy: 0.0470\n",
      "Epoch 58/100\n",
      "428/428 [==============================] - 8s 20ms/step - loss: 2.9772 - accuracy: 0.0554 - val_loss: 3.0512 - val_accuracy: 0.0470\n",
      "Epoch 59/100\n",
      "428/428 [==============================] - 9s 20ms/step - loss: 2.9417 - accuracy: 0.0534 - val_loss: 3.0520 - val_accuracy: 0.0470\n",
      "Epoch 60/100\n",
      "428/428 [==============================] - 9s 20ms/step - loss: 2.9416 - accuracy: 0.0534 - val_loss: 3.0519 - val_accuracy: 0.0470\n",
      "Epoch 61/100\n",
      "428/428 [==============================] - 9s 21ms/step - loss: 2.9420 - accuracy: 0.0548 - val_loss: 3.0521 - val_accuracy: 0.0470\n",
      "Epoch 62/100\n",
      "428/428 [==============================] - 8s 20ms/step - loss: 2.9506 - accuracy: 0.0543 - val_loss: 3.0524 - val_accuracy: 0.0470\n",
      "Epoch 63/100\n",
      "428/428 [==============================] - 8s 19ms/step - loss: 2.9419 - accuracy: 0.0547 - val_loss: 3.0515 - val_accuracy: 0.0470\n",
      "Epoch 64/100\n",
      "428/428 [==============================] - 8s 19ms/step - loss: 2.9410 - accuracy: 0.0553 - val_loss: 3.0500 - val_accuracy: 0.0470\n",
      "Epoch 65/100\n",
      "428/428 [==============================] - 8s 19ms/step - loss: 2.9422 - accuracy: 0.0545 - val_loss: 3.0500 - val_accuracy: 0.0470\n",
      "Epoch 66/100\n",
      "428/428 [==============================] - 8s 20ms/step - loss: 2.9416 - accuracy: 0.0543 - val_loss: 3.0488 - val_accuracy: 0.0470\n",
      "Epoch 67/100\n",
      "428/428 [==============================] - 8s 19ms/step - loss: 2.9415 - accuracy: 0.0556 - val_loss: 3.0720 - val_accuracy: 0.0470\n",
      "Epoch 68/100\n",
      "428/428 [==============================] - 8s 20ms/step - loss: 2.9429 - accuracy: 0.0550 - val_loss: 3.0813 - val_accuracy: 0.0470\n",
      "Epoch 69/100\n",
      "428/428 [==============================] - 8s 19ms/step - loss: 2.9448 - accuracy: 0.0533 - val_loss: 3.0815 - val_accuracy: 0.0470\n",
      "Epoch 70/100\n",
      "428/428 [==============================] - 8s 19ms/step - loss: 2.9431 - accuracy: 0.0521 - val_loss: 3.0814 - val_accuracy: 0.0470\n",
      "Epoch 71/100\n",
      "428/428 [==============================] - 8s 20ms/step - loss: 2.9524 - accuracy: 0.0556 - val_loss: 3.0854 - val_accuracy: 0.0470\n",
      "Epoch 72/100\n",
      "428/428 [==============================] - 8s 20ms/step - loss: 2.9480 - accuracy: 0.0556 - val_loss: 3.0866 - val_accuracy: 0.0470\n",
      "Epoch 73/100\n",
      "428/428 [==============================] - 8s 19ms/step - loss: 2.9435 - accuracy: 0.0537 - val_loss: 3.0865 - val_accuracy: 0.0470\n",
      "Epoch 74/100\n",
      "428/428 [==============================] - 8s 19ms/step - loss: 2.9428 - accuracy: 0.0546 - val_loss: 3.0867 - val_accuracy: 0.0470\n",
      "Epoch 75/100\n",
      "428/428 [==============================] - 8s 19ms/step - loss: 2.9802 - accuracy: 0.0543 - val_loss: 3.0865 - val_accuracy: 0.0470\n",
      "Epoch 76/100\n",
      "428/428 [==============================] - 8s 19ms/step - loss: 2.9471 - accuracy: 0.0541 - val_loss: 3.2127 - val_accuracy: 0.0470\n",
      "Epoch 77/100\n",
      "428/428 [==============================] - 8s 19ms/step - loss: 2.9883 - accuracy: 0.0526 - val_loss: 3.0862 - val_accuracy: 0.0470\n",
      "Epoch 78/100\n",
      "428/428 [==============================] - 8s 19ms/step - loss: 2.9454 - accuracy: 0.0540 - val_loss: 3.1051 - val_accuracy: 0.0474\n",
      "Epoch 79/100\n",
      "428/428 [==============================] - 8s 19ms/step - loss: 2.9428 - accuracy: 0.0545 - val_loss: 3.0866 - val_accuracy: 0.0470\n",
      "Epoch 80/100\n",
      "428/428 [==============================] - 8s 19ms/step - loss: 2.9422 - accuracy: 0.0553 - val_loss: 3.0860 - val_accuracy: 0.0470\n",
      "Epoch 81/100\n",
      "428/428 [==============================] - 8s 19ms/step - loss: 2.9442 - accuracy: 0.0545 - val_loss: 3.0856 - val_accuracy: 0.0470\n",
      "Epoch 82/100\n",
      "428/428 [==============================] - 9s 20ms/step - loss: 2.9420 - accuracy: 0.0537 - val_loss: 3.0843 - val_accuracy: 0.0470\n",
      "Epoch 83/100\n",
      "428/428 [==============================] - 8s 19ms/step - loss: 2.9423 - accuracy: 0.0527 - val_loss: 3.0811 - val_accuracy: 0.0470\n",
      "Epoch 84/100\n",
      "428/428 [==============================] - 8s 20ms/step - loss: 2.9424 - accuracy: 0.0543 - val_loss: 3.0780 - val_accuracy: 0.0470\n",
      "Epoch 85/100\n",
      "428/428 [==============================] - 9s 20ms/step - loss: 2.9564 - accuracy: 0.0534 - val_loss: 3.0702 - val_accuracy: 0.0470\n",
      "Epoch 86/100\n",
      "428/428 [==============================] - 8s 20ms/step - loss: 2.9424 - accuracy: 0.0534 - val_loss: 3.0702 - val_accuracy: 0.0470\n",
      "Epoch 87/100\n",
      "428/428 [==============================] - 8s 20ms/step - loss: 2.9424 - accuracy: 0.0544 - val_loss: 3.0702 - val_accuracy: 0.0470\n",
      "Epoch 88/100\n",
      "428/428 [==============================] - 8s 19ms/step - loss: 2.9431 - accuracy: 0.0546 - val_loss: 3.0702 - val_accuracy: 0.0470\n",
      "Epoch 89/100\n",
      "428/428 [==============================] - 8s 19ms/step - loss: 2.9422 - accuracy: 0.0542 - val_loss: 3.0702 - val_accuracy: 0.0470\n",
      "Epoch 90/100\n",
      "428/428 [==============================] - 8s 19ms/step - loss: 2.9474 - accuracy: 0.0543 - val_loss: 3.0703 - val_accuracy: 0.0470\n",
      "Epoch 91/100\n",
      "428/428 [==============================] - 8s 19ms/step - loss: 2.9431 - accuracy: 0.0546 - val_loss: 3.0703 - val_accuracy: 0.0470\n",
      "Epoch 92/100\n",
      "428/428 [==============================] - 8s 19ms/step - loss: 2.9432 - accuracy: 0.0539 - val_loss: 3.0702 - val_accuracy: 0.0470\n",
      "Epoch 93/100\n",
      "428/428 [==============================] - 8s 19ms/step - loss: 2.9428 - accuracy: 0.0544 - val_loss: 3.0703 - val_accuracy: 0.0470\n",
      "Epoch 94/100\n",
      "428/428 [==============================] - 9s 21ms/step - loss: 2.9421 - accuracy: 0.0544 - val_loss: 3.0702 - val_accuracy: 0.0470\n",
      "Epoch 95/100\n",
      "428/428 [==============================] - 9s 20ms/step - loss: 2.9466 - accuracy: 0.0546 - val_loss: 3.0702 - val_accuracy: 0.0470\n",
      "Epoch 96/100\n",
      "428/428 [==============================] - 9s 20ms/step - loss: 2.9508 - accuracy: 0.0537 - val_loss: 3.0702 - val_accuracy: 0.0470\n",
      "Epoch 97/100\n",
      "428/428 [==============================] - 9s 20ms/step - loss: 2.9426 - accuracy: 0.0541 - val_loss: 3.0704 - val_accuracy: 0.0470\n",
      "Epoch 98/100\n",
      "428/428 [==============================] - 9s 20ms/step - loss: 2.9428 - accuracy: 0.0545 - val_loss: 3.0703 - val_accuracy: 0.0470\n",
      "Epoch 99/100\n",
      "428/428 [==============================] - 9s 20ms/step - loss: 2.9431 - accuracy: 0.0543 - val_loss: 3.0702 - val_accuracy: 0.0470\n",
      "Epoch 100/100\n",
      "428/428 [==============================] - 9s 21ms/step - loss: 2.9423 - accuracy: 0.0545 - val_loss: 3.0703 - val_accuracy: 0.0470\n"
     ]
    }
   ],
   "source": [
    "# Build the model\n",
    "with tf.device('/cpu:0'):\n",
    "    model = Sequential()\n",
    "    model.add(Dense(512, input_shape=pad_X_train[0].shape))\n",
    "    model.add(Activation('relu'))\n",
    "    model.add(Dropout(0.5))\n",
    "    # model.add(Dense(np.unique(movies_data[\"primary_genre\"]).shape[0]))\n",
    "    # model.add(Activation('softmax'))\n",
    "    model.add(Dense(np.unique(movies_data[\"primary_genre\"]).shape[0],activation='softmax'))\n",
    "\n",
    "\n",
    "    model.compile(loss='categorical_crossentropy',\n",
    "                optimizer='adam',\n",
    "                metrics=['accuracy'])\n",
    "                \n",
    "    history = model.fit(pad_X_train, Y_train,\n",
    "                        batch_size=batch_size,\n",
    "                        epochs=epochs,\n",
    "                        verbose=1,\n",
    "                        validation_split=0.1)"
   ]
  },
  {
   "cell_type": "code",
   "execution_count": null,
   "metadata": {},
   "outputs": [],
   "source": []
  }
 ],
 "metadata": {
  "interpreter": {
   "hash": "5788f1503b0465350ce910c85bd58e96395fe4ed19232c5c5c28876de13dfd4a"
  },
  "kernelspec": {
   "display_name": "Python 3.8.8 ('.APP': venv)",
   "language": "python",
   "name": "python3"
  },
  "language_info": {
   "codemirror_mode": {
    "name": "ipython",
    "version": 3
   },
   "file_extension": ".py",
   "mimetype": "text/x-python",
   "name": "python",
   "nbconvert_exporter": "python",
   "pygments_lexer": "ipython3",
   "version": "3.8.8"
  },
  "orig_nbformat": 4
 },
 "nbformat": 4,
 "nbformat_minor": 2
}
